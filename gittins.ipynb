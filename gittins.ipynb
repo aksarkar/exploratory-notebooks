{
 "cells": [
  {
   "cell_type": "markdown",
   "id": "f12ea833",
   "metadata": {},
   "source": [
    "# Setup"
   ]
  },
  {
   "cell_type": "code",
   "execution_count": 1,
   "id": "1b9e56b3",
   "metadata": {},
   "outputs": [],
   "source": [
    "## !pip install numpy scipy"
   ]
  },
  {
   "cell_type": "code",
   "execution_count": 2,
   "id": "487635ab",
   "metadata": {},
   "outputs": [],
   "source": [
    "import collections\n",
    "import functools as ft\n",
    "import itertools as it\n",
    "import multiprocessing as mp\n",
    "import numpy as np\n",
    "import pandas as pd\n",
    "import scipy.optimize as so\n",
    "import scipy.stats as st"
   ]
  },
  {
   "cell_type": "code",
   "execution_count": 3,
   "id": "63133e43",
   "metadata": {},
   "outputs": [],
   "source": [
    "%matplotlib inline\n",
    "%config InlineBackend.figure_formats = ['svg']\n",
    "import matplotlib.pyplot as plt"
   ]
  },
  {
   "cell_type": "code",
   "execution_count": 4,
   "id": "1f664174",
   "metadata": {},
   "outputs": [],
   "source": [
    "F = st.uniform(0, 1)"
   ]
  },
  {
   "cell_type": "markdown",
   "id": "8ffc299c",
   "metadata": {},
   "source": [
    "# Implementation"
   ]
  },
  {
   "cell_type": "code",
   "execution_count": 5,
   "id": "00a1c4b2",
   "metadata": {},
   "outputs": [],
   "source": [
    "def revenue(values, virtual_values):\n",
    "    return max(np.array(values).max(), np.array(virtual_values).max())\n",
    "\n",
    "def trial(y, cost, seed, num_players, F):\n",
    "    np.random.seed(seed)\n",
    "    values = np.random.uniform(0, 1, size=num_players)\n",
    "    virtual_values = values - (1 - F.cdf(values) / F.pdf(values))\n",
    "    ret = dict()\n",
    "    ## Important: this points to the first *unselected* agent\n",
    "    for n in range(num_players - 1):\n",
    "        ret[n] = revenue(max(values[n], y), virtual_values[n + 1:]) - cost - revenue([y], virtual_values[n:])\n",
    "    ret[num_players - 1] = revenue([max(values[-1], y)], [-np.inf]) - cost - revenue([y], virtual_values[-1:])\n",
    "    return y, cost, seed, values, ret"
   ]
  },
  {
   "cell_type": "code",
   "execution_count": 6,
   "id": "735495d1",
   "metadata": {},
   "outputs": [],
   "source": [
    "def run_auction(ys, costs, num_players, F, num_trials=10_000, seed=0):\n",
    "    values = F.rvs(size=(num_trials, num_players))\n",
    "    virtual_values = values - (1 - F.cdf(values) / F.pdf(values))\n",
    "    ys = ys.reshape(1, -1)\n",
    "    costs = costs.reshape(1, 1, -1)\n",
    "    gittins_index = dict()\n",
    "    reservation_values = np.zeros((num_trials, costs.shape[-1]))\n",
    "    total_cost = np.zeros_like(reservation_values)\n",
    "    halt = np.zeros((num_trials, costs.shape[-1]), dtype=bool)\n",
    "    for j in range(num_players):\n",
    "        # trials x ys x costs\n",
    "        expected_improvement = (np.fmax(ys, np.fmax(values[:,j], virtual_values[:,j + 1:].max(axis=1, initial=0)).reshape(-1, 1))\n",
    "                                - np.fmax(ys, virtual_values[:,j:].max(axis=1, initial=0).reshape(-1, 1))).reshape(num_trials, ys.shape[1], 1) - costs\n",
    "        signs = np.sign(expected_improvement.mean(axis=0))\n",
    "        hits = np.where(np.diff(signs, axis=0))\n",
    "        gittins_index[j] = pd.Series(dict(zip(costs.ravel()[hits[1]], ys.ravel()[hits[0]])), index=costs.ravel()).fillna(np.inf * pd.Series(signs[0], index=costs.ravel()))\n",
    "        halt |= reservation_values > gittins_index[j].values.reshape(1, -1)\n",
    "        total_cost += np.where(halt, 0, costs.ravel())\n",
    "        reservation_values = np.where(halt, \n",
    "                                      np.fmax(reservation_values, virtual_values.max(axis=1).reshape(-1, 1)), \n",
    "                                      np.fmax(reservation_values, values[:,j].reshape(-1, 1)))\n",
    "    revenues = reservation_values - total_cost\n",
    "    gittins_index = pd.DataFrame(gittins_index)\n",
    "    gittins_index.index.name = 'cost'\n",
    "    gittins_index.columns.name = 'num_inspected'\n",
    "    revenue = pd.Series(revenues.mean(axis=0), index=costs.ravel())\n",
    "    return gittins_index, revenue"
   ]
  },
  {
   "cell_type": "markdown",
   "id": "79440383",
   "metadata": {},
   "source": [
    "# Results"
   ]
  },
  {
   "cell_type": "code",
   "execution_count": null,
   "id": "ed467a80",
   "metadata": {},
   "outputs": [],
   "source": [
    "batch_size = 1_000\n",
    "revenues = dict()\n",
    "gittins_index = dict()\n",
    "for batch in range(30):\n",
    "    gittins_index[batch], revenues[batch] = run_auction(np.linspace(0, 1, 1000), np.logspace(-3, -1, 100), 5, F, num_trials=batch_size, seed=batch)"
   ]
  },
  {
   "cell_type": "code",
   "execution_count": null,
   "id": "9da37ce9",
   "metadata": {},
   "outputs": [],
   "source": [
    "revenue = pd.DataFrame(revenues).mean(axis=1)"
   ]
  },
  {
   "cell_type": "code",
   "execution_count": null,
   "id": "55e5ea78",
   "metadata": {
    "scrolled": true
   },
   "outputs": [],
   "source": [
    "plt.clf()\n",
    "plt.gcf().set_size_inches(6, 3)\n",
    "plt.plot(revenue.index, revenue, lw=1, c='k')\n",
    "plt.xlabel('Cost')\n",
    "plt.ylabel('Expected revenue')\n",
    "plt.xscale('log')\n",
    "plt.tight_layout()"
   ]
  },
  {
   "cell_type": "markdown",
   "id": "211268d7",
   "metadata": {},
   "source": [
    "# Slow, readable code"
   ]
  },
  {
   "cell_type": "code",
   "execution_count": null,
   "id": "ca9be916",
   "metadata": {},
   "outputs": [],
   "source": [
    "with mp.Pool() as pool:\n",
    "    temp = pool.starmap(ft.partial(trial, num_players=5, F=F), \n",
    "                        it.product(np.linspace(0, 1, 100), [1e-2], range(50_000)))\n",
    "result = collections.defaultdict(lambda: collections.defaultdict(dict))\n",
    "for y, c, t, v, f in temp:\n",
    "    for k in f:\n",
    "        result[(k, c)][t][y] = f[k]"
   ]
  },
  {
   "cell_type": "code",
   "execution_count": null,
   "id": "5e44f8f9",
   "metadata": {},
   "outputs": [],
   "source": [
    "index = collections.defaultdict(dict)\n",
    "index_sd = collections.defaultdict(dict)\n",
    "for k, c in result:\n",
    "    mean = pd.DataFrame(result[(k, c)]).mean(axis=1)\n",
    "    std = pd.DataFrame(result[(k, c)]).std(axis=1)\n",
    "    hit = np.where(np.diff(np.sign(mean)))[0]\n",
    "    if hit.any():\n",
    "        index[c][k] = mean.index[hit].item()\n",
    "        index_sd[c][k] = std.iloc[hit]\n",
    "    elif mean[0] < 0:\n",
    "        index[c][k] = -np.inf\n",
    "        index_sd[c][k] = 0\n",
    "    else:\n",
    "        index[c][k] = np.inf\n",
    "        index_sd[c][k] = 0"
   ]
  },
  {
   "cell_type": "code",
   "execution_count": null,
   "id": "ea3ad862",
   "metadata": {
    "scrolled": true
   },
   "outputs": [],
   "source": [
    "gittins_index_table = pd.DataFrame(index)\n",
    "gittins_index_table.index.name = 'num_inspected'\n",
    "gittins_index_table.columns.name = 'cost'\n",
    "gittins_index_table"
   ]
  }
 ],
 "metadata": {
  "kernelspec": {
   "display_name": "Python 3 (ipykernel)",
   "language": "python",
   "name": "python3"
  },
  "language_info": {
   "codemirror_mode": {
    "name": "ipython",
    "version": 3
   },
   "file_extension": ".py",
   "mimetype": "text/x-python",
   "name": "python",
   "nbconvert_exporter": "python",
   "pygments_lexer": "ipython3",
   "version": "3.11.0"
  }
 },
 "nbformat": 4,
 "nbformat_minor": 5
}
